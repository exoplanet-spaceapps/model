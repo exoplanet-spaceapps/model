{
 "cells": [
  {
   "cell_type": "markdown",
   "id": "1d1e25fc",
   "metadata": {},
   "source": [
    "# 03b_cnn_train_mps — Train Two‑Branch 1D‑CNN (PyTorch + MPS)\n",
    "_Generated 2025-10-04_"
   ]
  },
  {
   "cell_type": "code",
   "execution_count": null,
   "id": "239a2de7",
   "metadata": {},
   "outputs": [
    {
     "name": "stderr",
     "output_type": "stream",
     "text": [
      "Matplotlib is building the font cache; this may take a moment.\n"
     ]
    },
    {
     "data": {
      "text/plain": [
       "'mps'"
      ]
     },
     "execution_count": 7,
     "metadata": {},
     "output_type": "execute_result"
    }
   ],
   "source": [
    "import os, sys, json, numpy as np, torch\n",
    "from pathlib import Path\n",
    "\n",
    "project_root = Path.cwd().parent\n",
    "if str(project_root) not in sys.path:\n",
    "    sys.path.append(str(project_root))\n",
    "\n",
    "from torch.utils.data import random_split, DataLoader\n",
    "from app.models.cnn1d import make_model\n",
    "from app.data.fold import Item, LightCurveViewsDataset\n",
    "from app.trainers.cnn1d_trainer import train\n",
    "from app.calibration.calibrate import run_and_save\n",
    "device = 'mps' if torch.backends.mps.is_available() else 'cpu'; device\n"
   ]
  },
  {
   "cell_type": "code",
   "execution_count": 8,
   "id": "6a37c0d5",
   "metadata": {},
   "outputs": [
    {
     "data": {
      "text/plain": [
       "200"
      ]
     },
     "execution_count": 8,
     "metadata": {},
     "output_type": "execute_result"
    }
   ],
   "source": [
    "def synth_curve(n=2048, period=2.5, depth=0.0015, duration=0.08, t0=0.5, noise=0.0005, seed=0):\n",
    "    rng = np.random.default_rng(seed)\n",
    "    t = np.linspace(0, period*5, n)\n",
    "    y = np.ones_like(t)\n",
    "    phase = ((t - t0) / period) % 1.0\n",
    "    in_tr = (phase < duration/period)\n",
    "    y[in_tr] -= depth\n",
    "    y += rng.normal(0, noise, size=y.shape)\n",
    "    return t, y\n",
    "items = []\n",
    "for i in range(200):\n",
    "    lbl = 1 if i%2==0 else 0\n",
    "    if lbl:\n",
    "        t,y = synth_curve(seed=i)\n",
    "    else:\n",
    "        t = np.linspace(0, 12.5, 2048); y = 1 + np.random.default_rng(i).normal(0,0.001,size=t.shape)\n",
    "    items.append(Item(time=t, flux=y, period=2.5, t0=0.5, duration=0.08, label=lbl))\n",
    "ds = LightCurveViewsDataset(items) ; len(ds)"
   ]
  },
  {
   "cell_type": "code",
   "execution_count": 9,
   "id": "043ee403",
   "metadata": {},
   "outputs": [
    {
     "data": {
      "text/plain": [
       "{'best_val_ap': 1.0,\n",
       " 'history': [{'epoch': 1,\n",
       "   'train_loss': 0.6784225702285767,\n",
       "   'val_ap': 1.0,\n",
       "   'val_auc': 1.0},\n",
       "  {'epoch': 2,\n",
       "   'train_loss': 0.5995711565017701,\n",
       "   'val_ap': 1.0,\n",
       "   'val_auc': 1.0},\n",
       "  {'epoch': 3,\n",
       "   'train_loss': 0.5392205834388732,\n",
       "   'val_ap': 1.0,\n",
       "   'val_auc': 1.0},\n",
       "  {'epoch': 4, 'train_loss': 0.47381831407547, 'val_ap': 1.0, 'val_auc': 1.0},\n",
       "  {'epoch': 5,\n",
       "   'train_loss': 0.4292725265026093,\n",
       "   'val_ap': 1.0,\n",
       "   'val_auc': 1.0}]}"
      ]
     },
     "execution_count": 9,
     "metadata": {},
     "output_type": "execute_result"
    }
   ],
   "source": [
    "n_total=len(ds); n_train=int(n_total*0.8); n_val=n_total-n_train\n",
    "train_ds, val_ds = random_split(ds,[n_train,n_val])\n",
    "model = make_model()\n",
    "metrics = train(model, train_ds, val_ds, device=device, batch_size=64, lr=1e-3, max_epochs=10, patience=4, workdir='.')\n",
    "metrics"
   ]
  },
  {
   "cell_type": "code",
   "execution_count": 10,
   "id": "a1e4f84d",
   "metadata": {},
   "outputs": [
    {
     "data": {
      "text/plain": [
       "{'method': 'isotonic', 'brier': 8.881784197001253e-17}"
      ]
     },
     "execution_count": 10,
     "metadata": {},
     "output_type": "execute_result"
    }
   ],
   "source": [
    "import numpy as np, torch\n",
    "from torch.utils.data import DataLoader\n",
    "from app.models.cnn1d import make_model\n",
    "from app.calibration.calibrate import run_and_save\n",
    "\n",
    "mdl = make_model()\n",
    "mdl.load_state_dict(torch.load('artifacts/cnn1d.pt', map_location=device))\n",
    "mdl.to(device).eval()\n",
    "\n",
    "val_loader = DataLoader(val_ds, batch_size=64, shuffle=False)\n",
    "probs=[]; ys=[]\n",
    "with torch.no_grad():\n",
    "    for G,L,Y in val_loader:\n",
    "        G = torch.as_tensor(G, dtype=torch.float32, device=device)\n",
    "        L = torch.as_tensor(L, dtype=torch.float32, device=device)\n",
    "        logits = mdl(G,L).squeeze(1)\n",
    "        probs.append(torch.sigmoid(logits).cpu().numpy())\n",
    "        ys.append(np.asarray(Y))\n",
    "probs=np.concatenate(probs); ys=np.concatenate(ys)\n",
    "cal_info = run_and_save(ys, probs, out_dir='artifacts', method='isotonic')\n",
    "cal_info\n"
   ]
  }
 ],
 "metadata": {
  "kernelspec": {
   "display_name": ".venv",
   "language": "python",
   "name": "python3"
  },
  "language_info": {
   "codemirror_mode": {
    "name": "ipython",
    "version": 3
   },
   "file_extension": ".py",
   "mimetype": "text/x-python",
   "name": "python",
   "nbconvert_exporter": "python",
   "pygments_lexer": "ipython3",
   "version": "3.9.6"
  }
 },
 "nbformat": 4,
 "nbformat_minor": 5
}
