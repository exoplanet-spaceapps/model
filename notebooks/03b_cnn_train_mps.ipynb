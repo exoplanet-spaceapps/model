{
  "cells": [
    {
      "cell_type": "markdown",
      "metadata": {},
      "source": [
        "# 03b_cnn_train_mps — Train Two‑Branch 1D‑CNN (PyTorch + MPS)\n",
        "_Generated 2025-10-04_"
      ]
    },
    {
      "cell_type": "code",
      "execution_count": null,
      "metadata": {},
      "outputs": [],
      "source": [
        "import os, json, numpy as np, torch\n",
        "from torch.utils.data import random_split, DataLoader\n",
        "from app.models.cnn1d import make_model\n",
        "from app.data.fold import Item, LightCurveViewsDataset\n",
        "from app.trainers.cnn1d_trainer import train\n",
        "from app.calibration.calibrate import run_and_save\n",
        "device = 'mps' if torch.backends.mps.is_available() else 'cpu'; device"
      ]
    },
    {
      "cell_type": "code",
      "execution_count": null,
      "metadata": {},
      "outputs": [],
      "source": [
        "def synth_curve(n=2048, period=2.5, depth=0.0015, duration=0.08, t0=0.5, noise=0.0005, seed=0):\n",
        "    rng = np.random.default_rng(seed)\n",
        "    t = np.linspace(0, period*5, n)\n",
        "    y = np.ones_like(t)\n",
        "    phase = ((t - t0) / period) % 1.0\n",
        "    in_tr = (phase < duration/period)\n",
        "    y[in_tr] -= depth\n",
        "    y += rng.normal(0, noise, size=y.shape)\n",
        "    return t, y\n",
        "items = []\n",
        "for i in range(200):\n",
        "    lbl = 1 if i%2==0 else 0\n",
        "    if lbl:\n",
        "        t,y = synth_curve(seed=i)\n",
        "    else:\n",
        "        t = np.linspace(0, 12.5, 2048); y = 1 + np.random.default_rng(i).normal(0,0.001,size=t.shape)\n",
        "    items.append(Item(time=t, flux=y, period=2.5, t0=0.5, duration=0.08, label=lbl))\n",
        "ds = LightCurveViewsDataset(items) ; len(ds)"
      ]
    },
    {
      "cell_type": "code",
      "execution_count": null,
      "metadata": {},
      "outputs": [],
      "source": [
        "n_total=len(ds); n_train=int(n_total*0.8); n_val=n_total-n_train\n",
        "train_ds, val_ds = random_split(ds,[n_train,n_val])\n",
        "model = make_model()\n",
        "metrics = train(model, train_ds, val_ds, device=device, batch_size=64, lr=1e-3, max_epochs=10, patience=4, workdir='.')\n",
        "metrics"
      ]
    },
    {
      "cell_type": "code",
      "execution_count": null,
      "metadata": {},
      "outputs": [],
      "source": [
        "import numpy as np, torch\n",
        "from torch.utils.data import DataLoader\n",
        "from app.models.cnn1d import make_model\n",
        "from app.calibration.calibrate import run_and_save\n",
        "mdl = make_model(); mdl.load_state_dict(torch.load('artifacts/cnn1d.pt', map_location=device)); mdl.to(device); mdl.eval()\n",
        "val_loader = DataLoader(val_ds, batch_size=64, shuffle=False)\n",
        "probs=[]; ys=[]\n",
        "with torch.no_grad():\n",
        "    for G,L,Y in val_loader:\n",
        "        G=torch.tensor(G,dtype=torch.float32,device=device)\n",
        "        L=torch.tensor(L,dtype=torch.float32,device=device)\n",
        "        logits=mdl(G,L).squeeze(1)\n",
        "        probs.append(torch.sigmoid(logits).cpu().numpy()); ys.append(Y)\n",
        "probs=np.concatenate(probs); ys=np.concatenate(ys)\n",
        "cal_info = run_and_save(ys, probs, out_dir='artifacts', method='isotonic')\n",
        "cal_info"
      ]
    }
  ],
  "metadata": {
    "kernelspec": {
      "display_name": "Python 3",
      "language": "python",
      "name": "python3"
    }
  },
  "nbformat": 4,
  "nbformat_minor": 5
}